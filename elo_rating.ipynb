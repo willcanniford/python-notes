{
 "cells": [
  {
   "cell_type": "markdown",
   "metadata": {},
   "source": [
    "# Elo Rating System\n",
    "Having done some reading around the Elo rating system, which is most commonly associated with chess, I wanted to take it and apply it to pool games that I play with my friends; it seems appropriate given the win/loss nature of the matches and would be a nice contrast to the other methods that I have implemented in the past.  \n",
    "\n",
    "It seems that the score at the time of the match is taken into consideration, and a share of the available points (defined by `k`) are shared depending on the difference between the achieved score and the expected score (given the differences in the ratings of the two players). "
   ]
  },
  {
   "cell_type": "markdown",
   "metadata": {},
   "source": [
    "Each player will start at a given level, and the system is set up as such that a player rated 400 points below there opponent is 10 times less likely to win the match. "
   ]
  },
  {
   "cell_type": "markdown",
   "metadata": {},
   "source": [
    "There appears to be two variations in the score. You can have your 'live' score, and then a rating that is set at the beginning of a given period. For FIDE, this is every month. Every game that you play during that period is calculated using the score at the beginning of the period, and only 'truly' updated when the period ends. You can work out a 'live' score, but this uses the rating from the start of the period and doesn't propogate through i.e. if I play someone who is 1200 at the beginning of the period, but they have already won a single game, then the calculations for my rating change will use 1200 and not the 'live' score that will be greater than that. "
   ]
  },
  {
   "cell_type": "code",
   "execution_count": 52,
   "metadata": {},
   "outputs": [],
   "source": [
    "import numpy as np\n",
    "import matplotlib.pyplot as plt\n",
    "from scipy.stats import logistic"
   ]
  },
  {
   "cell_type": "markdown",
   "metadata": {},
   "source": [
    "The amount that the score moves is based entirely on the expected result, and how the actual result compares to that, we need to calculate the expected result to be able to calculate the movement of the ratings after each game."
   ]
  },
  {
   "cell_type": "code",
   "execution_count": 246,
   "metadata": {},
   "outputs": [],
   "source": [
    "def expected_score(player1_rating, player2_rating):\n",
    "    \"\"\"\n",
    "    Given two player ratings, define the expected score that player 1 will defeat player 2\n",
    "    \n",
    "    Parameters\n",
    "    ----------\n",
    "    player1_rating: numeric \n",
    "        The rating of the first player\n",
    "    player2_rating: numeric \n",
    "        The rating of the second player\n",
    "        \n",
    "    Returns\n",
    "    -------\n",
    "    numeric \n",
    "        The expected score that player 1 will defeat player 2\n",
    "    \"\"\"\n",
    "    rating_difference = player2_rating - player1_rating\n",
    "    return 1 / (1 + np.power(10, rating_difference / 400))"
   ]
  },
  {
   "cell_type": "code",
   "execution_count": 201,
   "metadata": {},
   "outputs": [
    {
     "data": {
      "text/plain": [
       "0.29661499652817136"
      ]
     },
     "execution_count": 201,
     "metadata": {},
     "output_type": "execute_result"
    }
   ],
   "source": [
    "player1_rating, player2_rating = (2300, 2450)\n",
    "expected_score(player1_rating, player2_rating)"
   ]
  },
  {
   "cell_type": "code",
   "execution_count": 202,
   "metadata": {},
   "outputs": [
    {
     "data": {
      "text/plain": [
       "0.7033850034718286"
      ]
     },
     "execution_count": 202,
     "metadata": {},
     "output_type": "execute_result"
    }
   ],
   "source": [
    "expected_score(player2_rating, player1_rating)"
   ]
  },
  {
   "cell_type": "code",
   "execution_count": 237,
   "metadata": {},
   "outputs": [],
   "source": [
    "def elo_delta(player1_rating, player2_rating, k=32):\n",
    "    \"\"\"\n",
    "    Given two player ratings, the score difference for player 1 victory \n",
    "    \"\"\"\n",
    "    player1_exp_score = expected_score(player1_rating, player2_rating)\n",
    "    player2_exp_score = expected_score(player2_rating, player1_rating)\n",
    "    return round(k * (1 - player1_exp_score), 1)"
   ]
  },
  {
   "cell_type": "code",
   "execution_count": 239,
   "metadata": {},
   "outputs": [
    {
     "name": "stdout",
     "output_type": "stream",
     "text": [
      "Player 1 (1300) vs Player 2 (1100)\n",
      "Player 1: +7.7 / -24.3\n",
      "Player 2: +24.3 / -7.7\n"
     ]
    }
   ],
   "source": [
    "player1_rating, player2_rating = (1300, 1100)\n",
    "print(f'Player 1 ({player1_rating}) vs Player 2 ({player2_rating})')\n",
    "print(f'Player 1: +{elo_delta(player1_rating, player2_rating)} / -{elo_delta(player2_rating, player1_rating)}')\n",
    "print(f'Player 2: +{elo_delta(player2_rating, player1_rating)} / -{elo_delta(player1_rating, player2_rating)}')"
   ]
  },
  {
   "cell_type": "code",
   "execution_count": 240,
   "metadata": {},
   "outputs": [],
   "source": [
    "def determine_elo_rating_change(player1_rating, player1_score, player2_rating, player2_score, k=32):\n",
    "    \"\"\"\n",
    "    Calculate the change in rating given players' ratings and scores\n",
    "    \"\"\"\n",
    "    player1_exp_score = expected_score(player1_rating, player2_rating)\n",
    "    player2_exp_score = expected_score(player2_rating, player1_rating)\n",
    "    print((player1_exp_score, player2_exp_score))\n",
    "    player1_new_rating = round(player1_rating + k * (player1_score - player1_exp_score), 1)\n",
    "    player2_new_rating = round(player2_rating + k * (player2_score - player2_exp_score), 1)\n",
    "    return (player1_new_rating, player2_new_rating)"
   ]
  },
  {
   "cell_type": "code",
   "execution_count": 241,
   "metadata": {},
   "outputs": [
    {
     "name": "stdout",
     "output_type": "stream",
     "text": [
      "(0.7597469266479578, 0.2402530733520421)\n"
     ]
    },
    {
     "data": {
      "text/plain": [
       "(2507.7, 2292.3)"
      ]
     },
     "execution_count": 241,
     "metadata": {},
     "output_type": "execute_result"
    }
   ],
   "source": [
    "determine_elo_rating_change(2500, 1, 2300, 0)"
   ]
  },
  {
   "cell_type": "code",
   "execution_count": 39,
   "metadata": {},
   "outputs": [],
   "source": [
    "x = np.linspace(logistic.ppf(0.01), logistic.ppf(0.99), 100)"
   ]
  },
  {
   "cell_type": "code",
   "execution_count": 37,
   "metadata": {},
   "outputs": [
    {
     "data": {
      "text/plain": [
       "-4.59511985013459"
      ]
     },
     "execution_count": 37,
     "metadata": {},
     "output_type": "execute_result"
    }
   ],
   "source": [
    "logistic.ppf(0.01)"
   ]
  },
  {
   "cell_type": "code",
   "execution_count": 244,
   "metadata": {},
   "outputs": [],
   "source": [
    "# Calculated through loop - trial and error \n",
    "scale = 173.7177177177177\n",
    "x_elo = np.linspace(logistic.ppf(0.01, scale=scale, loc=player1_rating), logistic.ppf(0.99, scale=scale, loc=player1_rating), 100)\n",
    "x_elo_2 = np.linspace(logistic.ppf(0.01, scale=scale, loc=player2_rating), logistic.ppf(0.99, scale=scale, loc=player2_rating), 100)"
   ]
  },
  {
   "cell_type": "code",
   "execution_count": 245,
   "metadata": {},
   "outputs": [
    {
     "data": {
      "image/png": "[encoded data removed]",
      "text/plain": [
       "<Figure size 432x288 with 1 Axes>"
      ]
     },
     "metadata": {
      "needs_background": "light"
     },
     "output_type": "display_data"
    }
   ],
   "source": [
    "fig, ax = plt.subplots(1, 1)\n",
    "ax.axvline(player1_rating, 0, 1, c='r', ls='--', lw=1, alpha=0.5)\n",
    "ax.axvline(player2_rating, 0, 1, c='b', ls='--', lw=1, alpha=0.5)\n",
    "ax.plot(x_elo, logistic.pdf(x_elo, scale=scale, loc=player1_rating),\n",
    "       'r-', lw=2, alpha=0.6, label='logistic pdf')\n",
    "ax.plot(x_elo_2, logistic.pdf(x_elo_2, scale=scale, loc=player2_rating),\n",
    "       'b--', lw=2, alpha=0.6, label='logistic pdf 2')\n",
    "ax.set_ylim(0,None)\n",
    "ax.set_title('ELO comparison between two players')\n",
    "plt.show()"
   ]
  }
 ],
 "metadata": {
  "kernelspec": {
   "display_name": "Python 3",
   "language": "python",
   "name": "python3"
  },
  "language_info": {
   "codemirror_mode": {
    "name": "ipython",
    "version": 3
   },
   "file_extension": ".py",
   "mimetype": "text/x-python",
   "name": "python",
   "nbconvert_exporter": "python",
   "pygments_lexer": "ipython3",
   "version": "3.7.5"
  }
 },
 "nbformat": 4,
 "nbformat_minor": 4
}
