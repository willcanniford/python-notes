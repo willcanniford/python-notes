{
 "cells": [
  {
   "cell_type": "code",
   "execution_count": 5,
   "metadata": {},
   "outputs": [],
   "source": [
    "import numpy as np\n",
    "import pandas as pd"
   ]
  },
  {
   "cell_type": "code",
   "execution_count": 246,
   "metadata": {},
   "outputs": [],
   "source": [
    "def create_linear_decay_df(n = 365):\n",
    "    days = np.arange(0, n + 1)\n",
    "    score = np.linspace(1, 0, n + 1)\n",
    "    return pd.DataFrame.from_dict({'days_ago': days, 'score': score})\n",
    "\n",
    "def create_fixture_matrix():\n",
    "    matrix = np.zeros((2,2))\n",
    "    np.fill_diagonal(matrix, 2)\n",
    "    return matrix\n",
    "\n",
    "def add_player(existing_matrix, isFixture=True):\n",
    "    # We want to reshape the matrix/array to include an additional player\n",
    "    n = existing_matrix.shape[0]\n",
    "    new_matrix = np.insert(existing_matrix, n, 0, axis=1)\n",
    "    new_row = np.zeros((1, n + 1))\n",
    "    if isFixture:\n",
    "        new_row[0][n] = 2\n",
    "    return np.append(new_matrix, new_row, axis=0)\n",
    "\n",
    "def calculate_win_scores(group_results_matrix):\n",
    "    wins = np.array(group_results_matrix).sum(axis=1)\n",
    "    losses = np.array(group_results_matrix).sum(axis=0)\n",
    "    win_scores = 1 + ((wins - losses)) / 2\n",
    "    return win_scores\n",
    "\n",
    "def check_player(player, player_arr):\n",
    "    result = np.where(np.array(player_arr) == player)\n",
    "    return len(result[0])"
   ]
  },
  {
   "cell_type": "code",
   "execution_count": 36,
   "metadata": {},
   "outputs": [
    {
     "data": {
      "text/html": [
       "<div>\n",
       "<style scoped>\n",
       "    .dataframe tbody tr th:only-of-type {\n",
       "        vertical-align: middle;\n",
       "    }\n",
       "\n",
       "    .dataframe tbody tr th {\n",
       "        vertical-align: top;\n",
       "    }\n",
       "\n",
       "    .dataframe thead th {\n",
       "        text-align: right;\n",
       "    }\n",
       "</style>\n",
       "<table border=\"1\" class=\"dataframe\">\n",
       "  <thead>\n",
       "    <tr style=\"text-align: right;\">\n",
       "      <th></th>\n",
       "      <th>player_1</th>\n",
       "      <th>player_2</th>\n",
       "      <th>score_1</th>\n",
       "      <th>score_2</th>\n",
       "      <th>date</th>\n",
       "    </tr>\n",
       "  </thead>\n",
       "  <tbody>\n",
       "    <tr>\n",
       "      <th>0</th>\n",
       "      <td>1</td>\n",
       "      <td>2</td>\n",
       "      <td>10</td>\n",
       "      <td>6</td>\n",
       "      <td>2021-01-01</td>\n",
       "    </tr>\n",
       "    <tr>\n",
       "      <th>1</th>\n",
       "      <td>1</td>\n",
       "      <td>2</td>\n",
       "      <td>10</td>\n",
       "      <td>3</td>\n",
       "      <td>2021-01-01</td>\n",
       "    </tr>\n",
       "    <tr>\n",
       "      <th>2</th>\n",
       "      <td>1</td>\n",
       "      <td>3</td>\n",
       "      <td>5</td>\n",
       "      <td>10</td>\n",
       "      <td>2021-01-01</td>\n",
       "    </tr>\n",
       "    <tr>\n",
       "      <th>3</th>\n",
       "      <td>2</td>\n",
       "      <td>3</td>\n",
       "      <td>10</td>\n",
       "      <td>3</td>\n",
       "      <td>2021-01-01</td>\n",
       "    </tr>\n",
       "    <tr>\n",
       "      <th>4</th>\n",
       "      <td>3</td>\n",
       "      <td>1</td>\n",
       "      <td>7</td>\n",
       "      <td>10</td>\n",
       "      <td>2021-01-04</td>\n",
       "    </tr>\n",
       "    <tr>\n",
       "      <th>5</th>\n",
       "      <td>2</td>\n",
       "      <td>3</td>\n",
       "      <td>4</td>\n",
       "      <td>10</td>\n",
       "      <td>2021-01-04</td>\n",
       "    </tr>\n",
       "    <tr>\n",
       "      <th>6</th>\n",
       "      <td>1</td>\n",
       "      <td>4</td>\n",
       "      <td>10</td>\n",
       "      <td>1</td>\n",
       "      <td>2021-01-08</td>\n",
       "    </tr>\n",
       "    <tr>\n",
       "      <th>7</th>\n",
       "      <td>4</td>\n",
       "      <td>2</td>\n",
       "      <td>10</td>\n",
       "      <td>7</td>\n",
       "      <td>2021-01-08</td>\n",
       "    </tr>\n",
       "  </tbody>\n",
       "</table>\n",
       "</div>"
      ],
      "text/plain": [
       "   player_1  player_2  score_1  score_2       date\n",
       "0         1         2       10        6 2021-01-01\n",
       "1         1         2       10        3 2021-01-01\n",
       "2         1         3        5       10 2021-01-01\n",
       "3         2         3       10        3 2021-01-01\n",
       "4         3         1        7       10 2021-01-04\n",
       "5         2         3        4       10 2021-01-04\n",
       "6         1         4       10        1 2021-01-08\n",
       "7         4         2       10        7 2021-01-08"
      ]
     },
     "execution_count": 36,
     "metadata": {},
     "output_type": "execute_result"
    }
   ],
   "source": [
    "results = pd.read_csv('colley.csv')\n",
    "results.date = pd.to_datetime(results.date)\n",
    "results"
   ]
  },
  {
   "cell_type": "markdown",
   "metadata": {},
   "source": [
    "We are going to want to loop through the results 1 at a time and update metrics. "
   ]
  },
  {
   "cell_type": "code",
   "execution_count": 4,
   "metadata": {},
   "outputs": [
    {
     "name": "stdout",
     "output_type": "stream",
     "text": [
      "[0.625 0.375]\n",
      "[0.66666667 0.33333333]\n",
      "[0.54545455 0.27272727 0.68181818]\n",
      "[0.57142857 0.42857143 0.5       ]\n",
      "[0.625  0.4375 0.4375]\n",
      "[0.625 0.375 0.5  ]\n",
      "[0.67857143 0.40178571 0.52678571 0.39285714]\n",
      "[0.66666667 0.33333333 0.5        0.5       ]\n"
     ]
    }
   ],
   "source": [
    "# Create results and fixture matrices\n",
    "group_results_matrix = np.zeros((2,2))\n",
    "fixture_matrix = create_fixture_matrix()\n",
    "\n",
    "# Initialise the players array using row 1\n",
    "players = []\n",
    "players.append(results.iloc[0]['player_1'])\n",
    "players.append(results.iloc[0]['player_2'])\n",
    "\n",
    "for i in results.index:\n",
    "    row = results.iloc[i]\n",
    "    player_1 = row['player_1']\n",
    "    player_2 = row['player_2']\n",
    "    \n",
    "    # Check to see if a new player has played\n",
    "    if not check_player(player_1, players):\n",
    "        players.append(player_1)\n",
    "        fixture_matrix = add_player(fixture_matrix)\n",
    "        group_results_matrix = add_player(group_results_matrix, False)\n",
    "        \n",
    "    if not check_player(player_2, players):\n",
    "        players.append(player_2)\n",
    "        fixture_matrix = add_player(fixture_matrix)\n",
    "        group_results_matrix = add_player(group_results_matrix, False)\n",
    "    \n",
    "    player_1_index = np.where(players == player_1)[0][0]    \n",
    "    player_2_index = np.where(players == player_2)[0][0]\n",
    "    \n",
    "    # Calculate winner here and update results matrix\n",
    "    if row['score_1'] > row['score_2']:\n",
    "        group_results_matrix[player_1_index][player_2_index] += 1\n",
    "    else:\n",
    "        group_results_matrix[player_2_index][player_1_index] += 1\n",
    "    \n",
    "    # Increment total games for both players \n",
    "    fixture_matrix[player_1_index][player_1_index] += 1\n",
    "    fixture_matrix[player_2_index][player_2_index] += 1\n",
    "    \n",
    "    # Add the fixture to both players overall\n",
    "    fixture_matrix[player_1_index][player_2_index] -= 1\n",
    "    fixture_matrix[player_2_index][player_1_index] -= 1\n",
    "    \n",
    "    win_scores = calculate_win_scores(group_results_matrix)\n",
    "    \n",
    "    print(np.linalg.solve(fixture_matrix, win_scores))\n",
    "    "
   ]
  },
  {
   "cell_type": "code",
   "execution_count": 5,
   "metadata": {},
   "outputs": [
    {
     "data": {
      "text/plain": [
       "[1, 2, 3, 4]"
      ]
     },
     "execution_count": 5,
     "metadata": {},
     "output_type": "execute_result"
    }
   ],
   "source": [
    "players"
   ]
  },
  {
   "cell_type": "code",
   "execution_count": 6,
   "metadata": {},
   "outputs": [
    {
     "data": {
      "text/plain": [
       "array([[ 7., -2., -2., -1.],\n",
       "       [-2.,  7., -2., -1.],\n",
       "       [-2., -2.,  6.,  0.],\n",
       "       [-1., -1.,  0.,  4.]])"
      ]
     },
     "execution_count": 6,
     "metadata": {},
     "output_type": "execute_result"
    }
   ],
   "source": [
    "fixture_matrix"
   ]
  },
  {
   "cell_type": "code",
   "execution_count": 7,
   "metadata": {},
   "outputs": [
    {
     "data": {
      "text/plain": [
       "array([[0., 2., 1., 1.],\n",
       "       [0., 0., 1., 0.],\n",
       "       [1., 1., 0., 0.],\n",
       "       [0., 1., 0., 0.]])"
      ]
     },
     "execution_count": 7,
     "metadata": {},
     "output_type": "execute_result"
    }
   ],
   "source": [
    "group_results_matrix"
   ]
  },
  {
   "cell_type": "code",
   "execution_count": 8,
   "metadata": {},
   "outputs": [],
   "source": [
    "wins = np.array(group_results_matrix).sum(axis=1)\n",
    "losses = np.array(group_results_matrix).sum(axis=0)"
   ]
  },
  {
   "cell_type": "code",
   "execution_count": 9,
   "metadata": {},
   "outputs": [
    {
     "data": {
      "text/plain": [
       "array([4., 1., 2., 1.])"
      ]
     },
     "execution_count": 9,
     "metadata": {},
     "output_type": "execute_result"
    }
   ],
   "source": [
    "wins"
   ]
  },
  {
   "cell_type": "code",
   "execution_count": 10,
   "metadata": {},
   "outputs": [
    {
     "data": {
      "text/plain": [
       "array([1., 4., 2., 1.])"
      ]
     },
     "execution_count": 10,
     "metadata": {},
     "output_type": "execute_result"
    }
   ],
   "source": [
    "losses"
   ]
  },
  {
   "cell_type": "markdown",
   "metadata": {},
   "source": [
    "We would need some way to track the current decay multiplier, but also the version of decay on the previous iteration as you would require the difference between the `i` and `i-1`."
   ]
  },
  {
   "cell_type": "code",
   "execution_count": 14,
   "metadata": {},
   "outputs": [],
   "source": [
    "decay_lookup = {1: 0.98, 2:0.96, 3:0.94}"
   ]
  },
  {
   "cell_type": "code",
   "execution_count": 16,
   "metadata": {},
   "outputs": [
    {
     "data": {
      "text/plain": [
       "(0.98, 0.94)"
      ]
     },
     "execution_count": 16,
     "metadata": {},
     "output_type": "execute_result"
    }
   ],
   "source": [
    "(decay_lookup[1], decay_lookup[3])"
   ]
  },
  {
   "cell_type": "markdown",
   "metadata": {},
   "source": [
    "Something like this could be applied with date comparisons and using 'days ago'. "
   ]
  },
  {
   "cell_type": "code",
   "execution_count": 22,
   "metadata": {},
   "outputs": [],
   "source": [
    "decay_lookup = {0: 1}\n",
    "for i in range(365):\n",
    "    n = i + 1\n",
    "    decay_lookup[n] = 1 - n/365"
   ]
  },
  {
   "cell_type": "markdown",
   "metadata": {},
   "source": [
    "For a given day, the results on that day aren't decayed at all, and then there is a linear decay until a year has passed. At this point results aren't worth anything as they happened too long ago. "
   ]
  },
  {
   "cell_type": "code",
   "execution_count": 31,
   "metadata": {},
   "outputs": [
    {
     "data": {
      "text/html": [
       "<div>\n",
       "<style scoped>\n",
       "    .dataframe tbody tr th:only-of-type {\n",
       "        vertical-align: middle;\n",
       "    }\n",
       "\n",
       "    .dataframe tbody tr th {\n",
       "        vertical-align: top;\n",
       "    }\n",
       "\n",
       "    .dataframe thead th {\n",
       "        text-align: right;\n",
       "    }\n",
       "</style>\n",
       "<table border=\"1\" class=\"dataframe\">\n",
       "  <thead>\n",
       "    <tr style=\"text-align: right;\">\n",
       "      <th></th>\n",
       "      <th>player_1</th>\n",
       "      <th>player_2</th>\n",
       "      <th>score_1</th>\n",
       "      <th>score_2</th>\n",
       "      <th>date</th>\n",
       "      <th>day_diff</th>\n",
       "    </tr>\n",
       "  </thead>\n",
       "  <tbody>\n",
       "    <tr>\n",
       "      <th>0</th>\n",
       "      <td>1</td>\n",
       "      <td>2</td>\n",
       "      <td>10</td>\n",
       "      <td>6</td>\n",
       "      <td>2021-01-01</td>\n",
       "      <td>0</td>\n",
       "    </tr>\n",
       "    <tr>\n",
       "      <th>1</th>\n",
       "      <td>1</td>\n",
       "      <td>2</td>\n",
       "      <td>10</td>\n",
       "      <td>3</td>\n",
       "      <td>2021-01-01</td>\n",
       "      <td>0</td>\n",
       "    </tr>\n",
       "    <tr>\n",
       "      <th>2</th>\n",
       "      <td>1</td>\n",
       "      <td>3</td>\n",
       "      <td>5</td>\n",
       "      <td>10</td>\n",
       "      <td>2021-01-01</td>\n",
       "      <td>0</td>\n",
       "    </tr>\n",
       "    <tr>\n",
       "      <th>3</th>\n",
       "      <td>2</td>\n",
       "      <td>3</td>\n",
       "      <td>10</td>\n",
       "      <td>3</td>\n",
       "      <td>2021-01-01</td>\n",
       "      <td>0</td>\n",
       "    </tr>\n",
       "    <tr>\n",
       "      <th>4</th>\n",
       "      <td>3</td>\n",
       "      <td>1</td>\n",
       "      <td>7</td>\n",
       "      <td>10</td>\n",
       "      <td>2021-01-04</td>\n",
       "      <td>0</td>\n",
       "    </tr>\n",
       "  </tbody>\n",
       "</table>\n",
       "</div>"
      ],
      "text/plain": [
       "   player_1  player_2  score_1  score_2       date  day_diff\n",
       "0         1         2       10        6 2021-01-01         0\n",
       "1         1         2       10        3 2021-01-01         0\n",
       "2         1         3        5       10 2021-01-01         0\n",
       "3         2         3       10        3 2021-01-01         0\n",
       "4         3         1        7       10 2021-01-04         0"
      ]
     },
     "execution_count": 31,
     "metadata": {},
     "output_type": "execute_result"
    }
   ],
   "source": [
    "results = pd.read_csv('colley.csv')\n",
    "results['date'] = pd.to_datetime(results.date)\n",
    "results['day_diff'] = 0\n",
    "results.head()"
   ]
  },
  {
   "cell_type": "code",
   "execution_count": 110,
   "metadata": {},
   "outputs": [
    {
     "name": "stdout",
     "output_type": "stream",
     "text": [
      "2021-01-01 00:00:00\n",
      "2021-01-02 00:00:00\n",
      "2021-01-03 00:00:00\n",
      "2021-01-04 00:00:00\n",
      "2021-01-05 00:00:00\n",
      "2021-01-06 00:00:00\n",
      "2021-01-07 00:00:00\n",
      "2021-01-08 00:00:00\n",
      "2021-01-09 00:00:00\n",
      "2021-01-10 00:00:00\n",
      "2021-01-11 00:00:00\n",
      "2021-01-12 00:00:00\n",
      "2021-01-13 00:00:00\n",
      "2021-01-14 00:00:00\n"
     ]
    }
   ],
   "source": [
    "# Create results and fixture matrices\n",
    "group_results_matrix = np.zeros((2,2))\n",
    "fixture_matrix = create_fixture_matrix()\n",
    "\n",
    "# Same as above but decay will be applied to these ones \n",
    "decayed_results_matrix = group_results_matrix.copy()\n",
    "decayed_fixture_matrix = group_results_matrix.copy()\n",
    "\n",
    "# Define the bounds, decayed ranks created each day \n",
    "start_date = '2021-01-01'\n",
    "current_date = '2021-01-14'\n",
    "date_loop = pd.date_range(start_date, current_date)\n",
    "\n",
    "# Initialise the players array using row 1\n",
    "players = []\n",
    "players.append(results.iloc[0]['player_1'])\n",
    "players.append(results.iloc[0]['player_2'])\n",
    "\n",
    "for i in date_loop:\n",
    "    print(i)\n",
    "    # For every day that we loop through, the value of the wins reduces by 1/365\n",
    "    # We maintain a 'true' fixture lookup and a decayed, the former works out the decay values \n",
    "    \n",
    "    # Multiply the existing matrices to decay the fixtures and allow the win_scores to be adjusted\n",
    "    \n",
    "    date_mask = results.date <= i\n",
    "    day_diffs = [j.days for j in (i - results.date)]\n",
    "    results.day_diff = day_diffs\n",
    "    \n",
    "    # Loop through results for the day "
   ]
  },
  {
   "cell_type": "code",
   "execution_count": 107,
   "metadata": {},
   "outputs": [
    {
     "data": {
      "text/plain": [
       "[<matplotlib.lines.Line2D at 0x7f9f1a261a50>]"
      ]
     },
     "execution_count": 107,
     "metadata": {},
     "output_type": "execute_result"
    },
    {
     "data": {
      "image/png": "[encoded data removed]",
      "text/plain": [
       "<Figure size 432x288 with 1 Axes>"
      ]
     },
     "metadata": {
      "needs_background": "light"
     },
     "output_type": "display_data"
    }
   ],
   "source": [
    "plt.plot(np.geomspace(0.00001, 1, 365))"
   ]
  },
  {
   "cell_type": "code",
   "execution_count": 102,
   "metadata": {},
   "outputs": [
    {
     "data": {
      "text/plain": [
       "-6.907755278982137"
      ]
     },
     "execution_count": 102,
     "metadata": {},
     "output_type": "execute_result"
    }
   ],
   "source": [
    "np.log(0.001)"
   ]
  },
  {
   "cell_type": "code",
   "execution_count": 149,
   "metadata": {},
   "outputs": [
    {
     "name": "stdout",
     "output_type": "stream",
     "text": [
      "0\n",
      "[0.625 0.375]\n",
      "[0.625 0.375]\n",
      "1\n",
      "[0.66666667 0.33333333]\n",
      "[0.66659049 0.33340951]\n",
      "2\n",
      "[0.54545455 0.27272727 0.68181818]\n",
      "[0.54519915 0.2730678  0.68173305]\n",
      "3\n",
      "[0.57142857 0.42857143 0.5       ]\n",
      "[0.57099568 0.42931737 0.49968695]\n",
      "4\n",
      "[0.625  0.4375 0.4375]\n",
      "[0.62471944 0.43822755 0.43705301]\n",
      "5\n",
      "[0.625 0.375 0.5  ]\n",
      "[0.62474105 0.37534462 0.49991433]\n",
      "6\n",
      "[0.67857143 0.40178571 0.52678571 0.39285714]\n",
      "[0.67840986 0.4021289  0.52665795 0.39280329]\n",
      "7\n",
      "[0.66666667 0.33333333 0.5        0.5       ]\n",
      "[0.6665916  0.33336077 0.49983103 0.5002166 ]\n",
      "8\n",
      "[0.68181818 0.31818182 0.5        0.5       ]\n",
      "[0.68183069 0.31813712 0.49982187 0.50021033]\n"
     ]
    }
   ],
   "source": [
    "# Create results and fixture matrices\n",
    "group_results_matrix = np.zeros((2,2))\n",
    "fixture_matrix = create_fixture_matrix()\n",
    "\n",
    "# Same as above but decay will be applied to these ones \n",
    "decayed_results_matrix = group_results_matrix.copy()\n",
    "decayed_fixture_matrix = fixture_matrix.copy()\n",
    "\n",
    "# Initialise the players array using row 1\n",
    "players = []\n",
    "players.append(results.iloc[0]['player_1'])\n",
    "players.append(results.iloc[0]['player_2'])\n",
    "\n",
    "for i in results.index:\n",
    "    row = results.iloc[i]\n",
    "    player_1 = row['player_1']\n",
    "    player_2 = row['player_2']\n",
    "    \n",
    "    # Check to see if a new player has played\n",
    "    if not check_player(player_1, players):\n",
    "        players.append(player_1)\n",
    "        fixture_matrix = add_player(fixture_matrix)\n",
    "        decayed_fixture_matrix = add_player(decayed_fixture_matrix)\n",
    "        group_results_matrix = add_player(group_results_matrix, False)\n",
    "        decayed_results_matrix = add_player(decayed_results_matrix, False)\n",
    "        \n",
    "    if not check_player(player_2, players):\n",
    "        players.append(player_2)\n",
    "        fixture_matrix = add_player(fixture_matrix)\n",
    "        decayed_fixture_matrix = add_player(decayed_fixture_matrix)\n",
    "        group_results_matrix = add_player(group_results_matrix, False)\n",
    "        decayed_results_matrix = add_player(decayed_results_matrix, False)\n",
    "    \n",
    "    # Calculate the decay to remove\n",
    "    round_decay_matrix = fixture_matrix.copy()\n",
    "    \n",
    "    # We don't want to decay the +2 constant that is part of Laplace's correction\n",
    "    np.fill_diagonal(round_decay_matrix, (np.diag(round_decay_matrix) - 2))\n",
    "    round_decay_matrix = round_decay_matrix * 1/365\n",
    "    decayed_fixture_matrix = decayed_fixture_matrix - round_decay_matrix\n",
    "\n",
    "    round_results_decay = group_results_matrix.copy()\n",
    "    round_results_decay = round_results_decay * 1/365\n",
    "    decayed_results_matrix = decayed_results_matrix - round_results_decay\n",
    "    \n",
    "    player_1_index = np.where(players == player_1)[0][0]    \n",
    "    player_2_index = np.where(players == player_2)[0][0]\n",
    "    \n",
    "    # Calculate winner here and update results matrix\n",
    "    if row['score_1'] > row['score_2']:\n",
    "        group_results_matrix[player_1_index][player_2_index] += 1\n",
    "        decayed_results_matrix[player_1_index][player_2_index] += 1\n",
    "    else:\n",
    "        group_results_matrix[player_2_index][player_1_index] += 1\n",
    "        decayed_results_matrix[player_2_index][player_1_index] += 1\n",
    "    \n",
    "    # Increment total games for both players \n",
    "    fixture_matrix[player_1_index][player_1_index] += 1\n",
    "    decayed_fixture_matrix[player_1_index][player_1_index] += 1\n",
    "    fixture_matrix[player_2_index][player_2_index] += 1\n",
    "    decayed_fixture_matrix[player_2_index][player_2_index] += 1\n",
    "    \n",
    "    # Add the fixture to both players overall\n",
    "    fixture_matrix[player_1_index][player_2_index] -= 1\n",
    "    decayed_fixture_matrix[player_1_index][player_2_index] -= 1\n",
    "    fixture_matrix[player_2_index][player_1_index] -= 1\n",
    "    decayed_fixture_matrix[player_2_index][player_1_index] -= 1\n",
    "    \n",
    "    \n",
    "    win_scores = calculate_win_scores(group_results_matrix)\n",
    "    decayed_win_scores = calculate_win_scores(decayed_results_matrix)\n",
    "    \n",
    "    print(i)\n",
    "    print(np.linalg.solve(fixture_matrix, win_scores))\n",
    "    print(np.linalg.solve(decayed_fixture_matrix, decayed_win_scores))\n",
    "\n",
    "    "
   ]
  },
  {
   "cell_type": "code",
   "execution_count": 156,
   "metadata": {},
   "outputs": [
    {
     "name": "stdout",
     "output_type": "stream",
     "text": [
      "2022-01-02 00:00:00\n",
      "[0.68181818 0.31818182 0.5        0.5       ]\n",
      "[0.50937082 0.49062918 0.5        0.5       ]\n",
      "2022-01-03 00:00:00\n",
      "[0.68181818 0.31818182 0.5        0.5       ]\n",
      "[0.50677507 0.49322493 0.5        0.5       ]\n",
      "2022-01-04 00:00:00\n",
      "[0.68181818 0.31818182 0.5        0.5       ]\n",
      "[0.50411523 0.49588477 0.5        0.5       ]\n",
      "2022-01-05 00:00:00\n",
      "[0.68181818 0.31818182 0.5        0.5       ]\n",
      "[0.50138889 0.49861111 0.5        0.5       ]\n",
      "2022-01-06 00:00:00\n",
      "[0.68181818 0.31818182 0.5        0.5       ]\n",
      "[0.49859353 0.50140647 0.5        0.5       ]\n",
      "2022-01-07 00:00:00\n",
      "[0.68181818 0.31818182 0.5        0.5       ]\n",
      "[0.4957265 0.5042735 0.5       0.5      ]\n",
      "2022-01-08 00:00:00\n",
      "[0.68181818 0.31818182 0.5        0.5       ]\n",
      "[0.49278499 0.50721501 0.5        0.5       ]\n",
      "2022-01-09 00:00:00\n",
      "[0.68181818 0.31818182 0.5        0.5       ]\n",
      "[0.48976608 0.51023392 0.5        0.5       ]\n",
      "2022-01-10 00:00:00\n",
      "[0.68181818 0.31818182 0.5        0.5       ]\n",
      "[0.48666667 0.51333333 0.5        0.5       ]\n",
      "2022-01-11 00:00:00\n",
      "[0.68181818 0.31818182 0.5        0.5       ]\n",
      "[0.48348348 0.51651652 0.5        0.5       ]\n",
      "2022-01-12 00:00:00\n",
      "[0.68181818 0.31818182 0.5        0.5       ]\n",
      "[0.48021309 0.51978691 0.5        0.5       ]\n",
      "2022-01-13 00:00:00\n",
      "[0.68181818 0.31818182 0.5        0.5       ]\n",
      "[0.47685185 0.52314815 0.5        0.5       ]\n",
      "2022-01-14 00:00:00\n",
      "[0.68181818 0.31818182 0.5        0.5       ]\n",
      "[0.47339593 0.52660407 0.5        0.5       ]\n",
      "2022-01-15 00:00:00\n",
      "[0.68181818 0.31818182 0.5        0.5       ]\n",
      "[0.46984127 0.53015873 0.5        0.5       ]\n",
      "2022-01-16 00:00:00\n",
      "[0.68181818 0.31818182 0.5        0.5       ]\n",
      "[0.46618357 0.53381643 0.5        0.5       ]\n",
      "2022-01-17 00:00:00\n",
      "[0.68181818 0.31818182 0.5        0.5       ]\n",
      "[0.4624183 0.5375817 0.5       0.5      ]\n",
      "2022-01-18 00:00:00\n",
      "[0.68181818 0.31818182 0.5        0.5       ]\n",
      "[0.45854063 0.54145937 0.5        0.5       ]\n",
      "2022-01-19 00:00:00\n",
      "[0.68181818 0.31818182 0.5        0.5       ]\n",
      "[0.45454545 0.54545455 0.5        0.5       ]\n",
      "2022-01-20 00:00:00\n",
      "[0.68181818 0.31818182 0.5        0.5       ]\n",
      "[0.45042735 0.54957265 0.5        0.5       ]\n",
      "2022-01-21 00:00:00\n",
      "[0.68181818 0.31818182 0.5        0.5       ]\n",
      "[0.44618056 0.55381944 0.5        0.5       ]\n",
      "2022-01-22 00:00:00\n",
      "[0.68181818 0.31818182 0.5        0.5       ]\n",
      "[0.44179894 0.55820106 0.5        0.5       ]\n",
      "2022-01-23 00:00:00\n",
      "[0.68181818 0.31818182 0.5        0.5       ]\n",
      "[0.43727599 0.56272401 0.5        0.5       ]\n",
      "2022-01-24 00:00:00\n",
      "[0.68181818 0.31818182 0.5        0.5       ]\n",
      "[0.43260474 0.56739526 0.5        0.5       ]\n",
      "2022-01-25 00:00:00\n",
      "[0.68181818 0.31818182 0.5        0.5       ]\n",
      "[0.42777778 0.57222222 0.5        0.5       ]\n",
      "2022-01-26 00:00:00\n",
      "[0.68181818 0.31818182 0.5        0.5       ]\n",
      "[0.42278719 0.57721281 0.5        0.5       ]\n",
      "2022-01-27 00:00:00\n",
      "[0.68181818 0.31818182 0.5        0.5       ]\n",
      "[0.41762452 0.58237548 0.5        0.5       ]\n",
      "2022-01-28 00:00:00\n",
      "[0.68181818 0.31818182 0.5        0.5       ]\n",
      "[0.4122807 0.5877193 0.5       0.5      ]\n",
      "2022-01-29 00:00:00\n",
      "[0.68181818 0.31818182 0.5        0.5       ]\n",
      "[0.40674603 0.59325397 0.5        0.5       ]\n",
      "2022-01-30 00:00:00\n",
      "[0.68181818 0.31818182 0.5        0.5       ]\n",
      "[0.4010101 0.5989899 0.5       0.5      ]\n",
      "2022-01-31 00:00:00\n",
      "[0.68181818 0.31818182 0.5        0.5       ]\n",
      "[0.39506173 0.60493827 0.5        0.5       ]\n",
      "2022-02-01 00:00:00\n",
      "[0.68181818 0.31818182 0.5        0.5       ]\n",
      "[0.38888889 0.61111111 0.5        0.5       ]\n"
     ]
    }
   ],
   "source": [
    "# Create results and fixture matrices\n",
    "group_results_matrix = np.zeros((2,2))\n",
    "fixture_matrix = create_fixture_matrix()\n",
    "\n",
    "# Same as above but decay will be applied to these ones \n",
    "decayed_results_matrix = group_results_matrix.copy()\n",
    "decayed_fixture_matrix = fixture_matrix.copy()\n",
    "\n",
    "# Define the bounds, decayed ranks created each day \n",
    "start_date = '2021-01-01'\n",
    "current_date = '2022-02-01'\n",
    "date_loop = pd.date_range(start_date, current_date)\n",
    "\n",
    "# Initialise the players array using row 1\n",
    "players = []\n",
    "players.append(results.iloc[0]['player_1'])\n",
    "players.append(results.iloc[0]['player_2'])\n",
    "\n",
    "for i in date_loop:\n",
    "    day_results = results[results.date == i].copy()    \n",
    "    \n",
    "    for j in day_results.index:\n",
    "        row = results.iloc[j]\n",
    "        player_1 = row['player_1']\n",
    "        player_2 = row['player_2']\n",
    "    \n",
    "        # Check to see if a new player has played\n",
    "        if not check_player(player_1, players):\n",
    "            players.append(player_1)\n",
    "            fixture_matrix = add_player(fixture_matrix)\n",
    "            decayed_fixture_matrix = add_player(decayed_fixture_matrix)\n",
    "            group_results_matrix = add_player(group_results_matrix, False)\n",
    "            decayed_results_matrix = add_player(decayed_results_matrix, False)\n",
    "\n",
    "        if not check_player(player_2, players):\n",
    "            players.append(player_2)\n",
    "            fixture_matrix = add_player(fixture_matrix)\n",
    "            decayed_fixture_matrix = add_player(decayed_fixture_matrix)\n",
    "            group_results_matrix = add_player(group_results_matrix, False)\n",
    "            decayed_results_matrix = add_player(decayed_results_matrix, False)\n",
    "    \n",
    "    # Players have been added, so we can now calculate the decay on the existing fixtures without worrying about shapes \n",
    "    # Calculate the decay to remove\n",
    "    round_decay_matrix = fixture_matrix.copy()\n",
    "    \n",
    "    # We don't want to decay the +2 constant that is part of Laplace's correction\n",
    "    np.fill_diagonal(round_decay_matrix, (np.diag(round_decay_matrix) - 2))\n",
    "    round_decay_matrix = round_decay_matrix * 1/365\n",
    "    decayed_fixture_matrix = decayed_fixture_matrix - round_decay_matrix\n",
    "\n",
    "    round_results_decay = group_results_matrix.copy()\n",
    "    round_results_decay = round_results_decay * 1/365\n",
    "    decayed_results_matrix = decayed_results_matrix - round_results_decay\n",
    "    \n",
    "    \n",
    "    for j in day_results.index:\n",
    "        row = results.iloc[j]\n",
    "        player_1 = row['player_1']\n",
    "        player_2 = row['player_2']\n",
    "        \n",
    "        player_1_index = np.where(players == player_1)[0][0]    \n",
    "        player_2_index = np.where(players == player_2)[0][0]\n",
    "\n",
    "        # Calculate winner here and update results matrix\n",
    "        if row['score_1'] > row['score_2']:\n",
    "            group_results_matrix[player_1_index][player_2_index] += 1\n",
    "            decayed_results_matrix[player_1_index][player_2_index] += 1\n",
    "        else:\n",
    "            group_results_matrix[player_2_index][player_1_index] += 1\n",
    "            decayed_results_matrix[player_2_index][player_1_index] += 1\n",
    "\n",
    "        # Increment total games for both players (inc. decayed as these value are 1 for the day)\n",
    "        fixture_matrix[player_1_index][player_1_index] += 1\n",
    "        decayed_fixture_matrix[player_1_index][player_1_index] += 1\n",
    "        fixture_matrix[player_2_index][player_2_index] += 1\n",
    "        decayed_fixture_matrix[player_2_index][player_2_index] += 1\n",
    "\n",
    "        # Add the fixture to both players overall\n",
    "        fixture_matrix[player_1_index][player_2_index] -= 1\n",
    "        decayed_fixture_matrix[player_1_index][player_2_index] -= 1\n",
    "        fixture_matrix[player_2_index][player_1_index] -= 1\n",
    "        decayed_fixture_matrix[player_2_index][player_1_index] -= 1\n",
    "    \n",
    "    \n",
    "    win_scores = calculate_win_scores(group_results_matrix)\n",
    "    decayed_win_scores = calculate_win_scores(decayed_results_matrix)\n",
    "    \n",
    "    if i > pd.to_datetime('2022-01-01'):\n",
    "        print(i)\n",
    "        print(np.linalg.solve(fixture_matrix, win_scores))\n",
    "        print(np.linalg.solve(decayed_fixture_matrix, decayed_win_scores))\n",
    "\n",
    "    "
   ]
  },
  {
   "cell_type": "markdown",
   "metadata": {},
   "source": [
    "We can incrementally add the records, and then update the existing 'running' data frame, rather than run a subset of the complete for each date. What way we are reducing the creation of objects, but a join will still be required to create a match_value that will then be used to calculate the fixture matrix and results matrix. "
   ]
  },
  {
   "cell_type": "markdown",
   "metadata": {},
   "source": [
    "Which way is quicker? \n",
    "1. Loop through the fixtures and update numpy matrices \n",
    "    a. Loop through days, select out the new fixtures and insert, then recalculate the win_value by joining into lookup or logic update. \n",
    "2. Invert and then pivot out via a pandas.DataFrame (as per the original method)"
   ]
  },
  {
   "cell_type": "code",
   "execution_count": 219,
   "metadata": {},
   "outputs": [
    {
     "data": {
      "text/html": [
       "<div>\n",
       "<style scoped>\n",
       "    .dataframe tbody tr th:only-of-type {\n",
       "        vertical-align: middle;\n",
       "    }\n",
       "\n",
       "    .dataframe tbody tr th {\n",
       "        vertical-align: top;\n",
       "    }\n",
       "\n",
       "    .dataframe thead th {\n",
       "        text-align: right;\n",
       "    }\n",
       "</style>\n",
       "<table border=\"1\" class=\"dataframe\">\n",
       "  <thead>\n",
       "    <tr style=\"text-align: right;\">\n",
       "      <th></th>\n",
       "      <th>days_ago</th>\n",
       "      <th>score</th>\n",
       "    </tr>\n",
       "  </thead>\n",
       "  <tbody>\n",
       "    <tr>\n",
       "      <th>0</th>\n",
       "      <td>0</td>\n",
       "      <td>1.000000</td>\n",
       "    </tr>\n",
       "    <tr>\n",
       "      <th>1</th>\n",
       "      <td>1</td>\n",
       "      <td>0.994444</td>\n",
       "    </tr>\n",
       "    <tr>\n",
       "      <th>2</th>\n",
       "      <td>2</td>\n",
       "      <td>0.988889</td>\n",
       "    </tr>\n",
       "    <tr>\n",
       "      <th>3</th>\n",
       "      <td>3</td>\n",
       "      <td>0.983333</td>\n",
       "    </tr>\n",
       "    <tr>\n",
       "      <th>4</th>\n",
       "      <td>4</td>\n",
       "      <td>0.977778</td>\n",
       "    </tr>\n",
       "  </tbody>\n",
       "</table>\n",
       "</div>"
      ],
      "text/plain": [
       "   days_ago     score\n",
       "0         0  1.000000\n",
       "1         1  0.994444\n",
       "2         2  0.988889\n",
       "3         3  0.983333\n",
       "4         4  0.977778"
      ]
     },
     "execution_count": 219,
     "metadata": {},
     "output_type": "execute_result"
    }
   ],
   "source": [
    "decay_df = create_linear_decay_df(180)\n",
    "decay_df.head()"
   ]
  },
  {
   "cell_type": "code",
   "execution_count": 255,
   "metadata": {},
   "outputs": [
    {
     "data": {
      "text/html": [
       "<div>\n",
       "<style scoped>\n",
       "    .dataframe tbody tr th:only-of-type {\n",
       "        vertical-align: middle;\n",
       "    }\n",
       "\n",
       "    .dataframe tbody tr th {\n",
       "        vertical-align: top;\n",
       "    }\n",
       "\n",
       "    .dataframe thead th {\n",
       "        text-align: right;\n",
       "    }\n",
       "</style>\n",
       "<table border=\"1\" class=\"dataframe\">\n",
       "  <thead>\n",
       "    <tr style=\"text-align: right;\">\n",
       "      <th></th>\n",
       "      <th>player_1</th>\n",
       "      <th>player_2</th>\n",
       "      <th>score_1</th>\n",
       "      <th>score_2</th>\n",
       "      <th>date</th>\n",
       "      <th>days_ago</th>\n",
       "      <th>score</th>\n",
       "    </tr>\n",
       "  </thead>\n",
       "  <tbody>\n",
       "    <tr>\n",
       "      <th>0</th>\n",
       "      <td>1</td>\n",
       "      <td>2</td>\n",
       "      <td>10</td>\n",
       "      <td>6</td>\n",
       "      <td>2021-01-01</td>\n",
       "      <td>0</td>\n",
       "      <td>1.0</td>\n",
       "    </tr>\n",
       "    <tr>\n",
       "      <th>1</th>\n",
       "      <td>2</td>\n",
       "      <td>3</td>\n",
       "      <td>10</td>\n",
       "      <td>7</td>\n",
       "      <td>2021-01-01</td>\n",
       "      <td>0</td>\n",
       "      <td>1.0</td>\n",
       "    </tr>\n",
       "    <tr>\n",
       "      <th>2</th>\n",
       "      <td>3</td>\n",
       "      <td>1</td>\n",
       "      <td>10</td>\n",
       "      <td>5</td>\n",
       "      <td>2021-01-01</td>\n",
       "      <td>0</td>\n",
       "      <td>1.0</td>\n",
       "    </tr>\n",
       "    <tr>\n",
       "      <th>3</th>\n",
       "      <td>1</td>\n",
       "      <td>2</td>\n",
       "      <td>6</td>\n",
       "      <td>10</td>\n",
       "      <td>2021-02-02</td>\n",
       "      <td>0</td>\n",
       "      <td>1.0</td>\n",
       "    </tr>\n",
       "    <tr>\n",
       "      <th>4</th>\n",
       "      <td>2</td>\n",
       "      <td>3</td>\n",
       "      <td>10</td>\n",
       "      <td>4</td>\n",
       "      <td>2021-02-02</td>\n",
       "      <td>0</td>\n",
       "      <td>1.0</td>\n",
       "    </tr>\n",
       "  </tbody>\n",
       "</table>\n",
       "</div>"
      ],
      "text/plain": [
       "   player_1  player_2  score_1  score_2       date  days_ago  score\n",
       "0         1         2       10        6 2021-01-01         0    1.0\n",
       "1         2         3       10        7 2021-01-01         0    1.0\n",
       "2         3         1       10        5 2021-01-01         0    1.0\n",
       "3         1         2        6       10 2021-02-02         0    1.0\n",
       "4         2         3       10        4 2021-02-02         0    1.0"
      ]
     },
     "execution_count": 255,
     "metadata": {},
     "output_type": "execute_result"
    }
   ],
   "source": [
    "results = pd.read_csv('colley.csv')\n",
    "results['date'] = pd.to_datetime(results.date)\n",
    "results['days_ago'] = 0\n",
    "results['score'] = 1.0\n",
    "results.head()"
   ]
  },
  {
   "cell_type": "code",
   "execution_count": 256,
   "metadata": {},
   "outputs": [],
   "source": [
    "# Create results and fixture matrices\n",
    "group_results_matrix = np.zeros((2,2))\n",
    "fixture_matrix = create_fixture_matrix()\n",
    "\n",
    "# Same as above but decay will be applied to these ones \n",
    "decayed_results_matrix = group_results_matrix.copy()\n",
    "decayed_fixture_matrix = fixture_matrix.copy()\n",
    "\n",
    "# Define the bounds, decayed ranks created each day \n",
    "start_date = '2021-01-01'\n",
    "current_date = '2022-01-01'\n",
    "date_loop = pd.date_range(start_date, current_date)\n",
    "\n",
    "# Initialise the players array using row 1\n",
    "players = []\n",
    "players.append(results.iloc[0]['player_1'])\n",
    "players.append(results.iloc[0]['player_2'])\n",
    "\n",
    "# Create a data frame that builds with time\n",
    "realtime_results = results[results.date == '19900101'].copy() \n",
    "x = []\n",
    "\n",
    "for i in date_loop:\n",
    "    # Increment the days_ago field\n",
    "    realtime_results['days_ago'] += 1\n",
    "    \n",
    "    # Copy the new results and append to existing \n",
    "    day_results = results[results.date == i].copy()  \n",
    "    realtime_results = realtime_results.append(day_results)\n",
    "    \n",
    "    # Update the score value \n",
    "    final = realtime_results.merge(decay_df, on='days_ago', how='left')\n",
    "    realtime_results['score'] = final['score_y'].fillna(final['score_x'])\n",
    "    \n",
    "    # Create a blank set of matrices for this iteration\n",
    "    group_results_matrix = np.zeros((2,2))\n",
    "    fixture_matrix = create_fixture_matrix()\n",
    "    players = []\n",
    "    players.append(realtime_results.iloc[0]['player_1'])\n",
    "    players.append(realtime_results.iloc[0]['player_2'])\n",
    "    \n",
    "    for i in realtime_results.index:\n",
    "        row = realtime_results.iloc[i]\n",
    "        player_1 = row['player_1']\n",
    "        player_2 = row['player_2']\n",
    "        score = row['score']\n",
    "\n",
    "        # Check to see if a new player has played\n",
    "        if not check_player(player_1, players):\n",
    "            players.append(player_1)\n",
    "            fixture_matrix = add_player(fixture_matrix)\n",
    "            group_results_matrix = add_player(group_results_matrix, False)\n",
    "        \n",
    "        if not check_player(player_2, players):\n",
    "            players.append(player_2)\n",
    "            fixture_matrix = add_player(fixture_matrix)\n",
    "            group_results_matrix = add_player(group_results_matrix, False)\n",
    "\n",
    "        player_1_index = np.where(players == player_1)[0][0]    \n",
    "        player_2_index = np.where(players == player_2)[0][0]\n",
    "\n",
    "        # Calculate winner here and update results matrix\n",
    "        if row['score_1'] > row['score_2']:\n",
    "            group_results_matrix[player_1_index][player_2_index] += score\n",
    "        else:\n",
    "            group_results_matrix[player_2_index][player_1_index] += score\n",
    "\n",
    "        # Increment total games for both players \n",
    "        fixture_matrix[player_1_index][player_1_index] += score\n",
    "        fixture_matrix[player_2_index][player_2_index] += score\n",
    "\n",
    "        # Add the fixture to both players overall\n",
    "        fixture_matrix[player_1_index][player_2_index] -= score\n",
    "        fixture_matrix[player_2_index][player_1_index] -= score\n",
    "\n",
    "    #print(realtime_results)\n",
    "    #print(group_results_matrix)\n",
    "    #print(fixture_matrix)\n",
    "        \n",
    "    win_scores = calculate_win_scores(group_results_matrix)\n",
    "    #print(win_scores)\n",
    "    rankings = np.linalg.solve(fixture_matrix, win_scores)\n",
    "    x.append(rankings.tolist())\n",
    "    #print(rankings)\n",
    "    #print('-----------------')\n",
    "    #print('-----------------')\n",
    "    \n",
    "#print(realtime_results)"
   ]
  },
  {
   "cell_type": "code",
   "execution_count": 257,
   "metadata": {},
   "outputs": [
    {
     "data": {
      "text/plain": [
       "366"
      ]
     },
     "execution_count": 257,
     "metadata": {},
     "output_type": "execute_result"
    }
   ],
   "source": [
    "len(x)"
   ]
  },
  {
   "cell_type": "code",
   "execution_count": 258,
   "metadata": {},
   "outputs": [
    {
     "data": {
      "text/plain": [
       "array([[0.5, 0.5, 0.5, nan],\n",
       "       [0.5, 0.5, 0.5, nan],\n",
       "       [0.5, 0.5, 0.5, nan],\n",
       "       ...,\n",
       "       [0.5, 0.5, 0.5, 0.5],\n",
       "       [0.5, 0.5, 0.5, 0.5],\n",
       "       [0.5, 0.5, 0.5, 0.5]])"
      ]
     },
     "execution_count": 258,
     "metadata": {},
     "output_type": "execute_result"
    }
   ],
   "source": [
    "length = max(map(len, x))\n",
    "y = np.array([xi+[np.nan]*(length-len(xi)) for xi in x])\n",
    "y"
   ]
  },
  {
   "cell_type": "code",
   "execution_count": 264,
   "metadata": {},
   "outputs": [
    {
     "data": {
      "text/plain": [
       "array([[0.5, 0.5, 0.5, nan],\n",
       "       [0.5, 0.5, 0.5, nan],\n",
       "       [0.5, 0.5, 0.5, nan],\n",
       "       ...,\n",
       "       [0.5, 0.5, 0.5, 0.5],\n",
       "       [0.5, 0.5, 0.5, 0.5],\n",
       "       [0.5, 0.5, 0.5, 0.5]])"
      ]
     },
     "execution_count": 264,
     "metadata": {},
     "output_type": "execute_result"
    }
   ],
   "source": [
    "np.stack(y)"
   ]
  },
  {
   "cell_type": "code",
   "execution_count": 241,
   "metadata": {},
   "outputs": [
    {
     "data": {
      "image/png": "[encoded data removed]",
      "text/plain": [
       "<Figure size 432x288 with 1 Axes>"
      ]
     },
     "metadata": {
      "needs_background": "light"
     },
     "output_type": "display_data"
    }
   ],
   "source": [
    "import matplotlib.pyplot as plt\n",
    "\n",
    "plt.plot(np.stack(y)[:, 0], c='red')\n",
    "plt.plot(np.stack(y)[:, 1], c='blue')\n",
    "plt.plot(np.stack(y)[:, 2], c='green')\n",
    "plt.axvline(7, alpha=0.2, c='gray')\n",
    "#plt.plot(np.stack(y)[:, 3], c='yellow')\n",
    "plt.show()"
   ]
  },
  {
   "cell_type": "code",
   "execution_count": 242,
   "metadata": {},
   "outputs": [
    {
     "data": {
      "text/plain": [
       "array([[0., 0., 0.],\n",
       "       [0., 0., 0.],\n",
       "       [0., 0., 0.]])"
      ]
     },
     "execution_count": 242,
     "metadata": {},
     "output_type": "execute_result"
    }
   ],
   "source": [
    "group_results_matrix"
   ]
  },
  {
   "cell_type": "code",
   "execution_count": 243,
   "metadata": {},
   "outputs": [
    {
     "data": {
      "text/plain": [
       "array([[2., 0., 0.],\n",
       "       [0., 2., 0.],\n",
       "       [0., 0., 2.]])"
      ]
     },
     "execution_count": 243,
     "metadata": {},
     "output_type": "execute_result"
    }
   ],
   "source": [
    "fixture_matrix"
   ]
  },
  {
   "cell_type": "code",
   "execution_count": 244,
   "metadata": {},
   "outputs": [
    {
     "data": {
      "text/plain": [
       "array([1., 1., 1.])"
      ]
     },
     "execution_count": 244,
     "metadata": {},
     "output_type": "execute_result"
    }
   ],
   "source": [
    "win_scores"
   ]
  },
  {
   "cell_type": "code",
   "execution_count": 245,
   "metadata": {},
   "outputs": [
    {
     "data": {
      "text/plain": [
       "3.0"
      ]
     },
     "execution_count": 245,
     "metadata": {},
     "output_type": "execute_result"
    }
   ],
   "source": [
    "sum(win_scores)"
   ]
  },
  {
   "cell_type": "code",
   "execution_count": null,
   "metadata": {},
   "outputs": [],
   "source": []
  }
 ],
 "metadata": {
  "kernelspec": {
   "display_name": "Python 3",
   "language": "python",
   "name": "python3"
  },
  "language_info": {
   "codemirror_mode": {
    "name": "ipython",
    "version": 3
   },
   "file_extension": ".py",
   "mimetype": "text/x-python",
   "name": "python",
   "nbconvert_exporter": "python",
   "pygments_lexer": "ipython3",
   "version": "3.7.5"
  }
 },
 "nbformat": 4,
 "nbformat_minor": 4
}
